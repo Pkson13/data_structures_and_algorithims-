{
  "nbformat": 4,
  "nbformat_minor": 0,
  "metadata": {
    "colab": {
      "provenance": [],
      "authorship_tag": "ABX9TyN1Ptq5ZeMgvEnADszUXMux",
      "include_colab_link": true
    },
    "kernelspec": {
      "name": "python3",
      "display_name": "Python 3"
    },
    "language_info": {
      "name": "python"
    }
  },
  "cells": [
    {
      "cell_type": "markdown",
      "metadata": {
        "id": "view-in-github",
        "colab_type": "text"
      },
      "source": [
        "<a href=\"https://colab.research.google.com/github/Pkson13/data_structures_and_algorithims-/blob/main/leetcode/python/Search_insertion_position_leetcode_35.ipynb\" target=\"_parent\"><img src=\"https://colab.research.google.com/assets/colab-badge.svg\" alt=\"Open In Colab\"/></a>"
      ]
    },
    {
      "cell_type": "markdown",
      "source": [
        "35. Search Insert Position\n",
        "Easy\n",
        "Topics\n",
        "premium lock icon\n",
        "Companies\n",
        "Given a sorted array of distinct integers and a target value, return the index if the target is found. If not, return the index where it would be if it were inserted in order.\n",
        "\n",
        "You must write an algorithm with O(log n) runtime complexity.\n",
        "\n",
        "\n",
        "\n",
        "Example 1:\n",
        "\n",
        "Input: nums = [1,3,5,6], target = 5\n",
        "Output: 2\n",
        "Example 2:\n",
        "\n",
        "Input: nums = [1,3,5,6], target = 2\n",
        "Output: 1\n",
        "Example 3:\n",
        "\n",
        "Input: nums = [1,3,5,6], target = 7\n",
        "Output: 4"
      ],
      "metadata": {
        "id": "_rlxWHXTnL9g"
      }
    },
    {
      "cell_type": "code",
      "execution_count": 40,
      "metadata": {
        "colab": {
          "base_uri": "https://localhost:8080/"
        },
        "id": "JUrw26YonKzN",
        "outputId": "45457734-7420-428f-bfcd-fd3642529175"
      },
      "outputs": [
        {
          "output_type": "stream",
          "name": "stdout",
          "text": [
            "2\n",
            "3\n",
            "3\n"
          ]
        }
      ],
      "source": [
        "def searchInsert(nums, target):\n",
        "    \"\"\"\n",
        "    :type nums: List[int]\n",
        "    :type target: int\n",
        "    :rtype: int\n",
        "    \"\"\"\n",
        "    l= 0\n",
        "    r=len(nums)-1\n",
        "    while l<=r:\n",
        "\n",
        "        mid = l +((r-l)//2)\n",
        "        print(mid)\n",
        "        if nums[mid] == target:\n",
        "            return mid\n",
        "\n",
        "\n",
        "        if nums[mid] > target:\n",
        "            r=mid - 1 if mid>=1 else 0\n",
        "        if nums[mid] < target:\n",
        "            l = mid + 1\n",
        "        if r == l:\n",
        "            print(r, l, mid)\n",
        "            if nums[r] < target:\n",
        "                return r + 1\n",
        "            if nums[r] > target:\n",
        "                return r\n",
        "    return mid\n",
        "\n",
        "\n",
        "print(searchInsert([3,5,7,9,10], target = 8))\n",
        "\n",
        ""
      ]
    },
    {
      "cell_type": "code",
      "source": [
        "# better solution"
      ],
      "metadata": {
        "id": "ShNmA_BB4Opw"
      },
      "execution_count": null,
      "outputs": []
    },
    {
      "cell_type": "code",
      "source": [
        "def searchInsert( nums, target):\n",
        "        \"\"\"\n",
        "        :type nums: List[int]\n",
        "        :type target: int\n",
        "        :rtype: int\n",
        "        \"\"\"\n",
        "        l, r = 0, len(nums) - 1\n",
        "        while l <= r:\n",
        "            mid = (l + r) // 2\n",
        "            if nums[mid] == target:\n",
        "                return mid\n",
        "            elif nums[mid] < target:\n",
        "                l = mid + 1\n",
        "            else:\n",
        "                r = mid - 1\n",
        "        return l\n",
        "searchInsert([1,3], target = 2)"
      ],
      "metadata": {
        "colab": {
          "base_uri": "https://localhost:8080/"
        },
        "id": "zmC1ShHK38Nq",
        "outputId": "a5d9fecb-5da1-480b-ec52-46a30f28d38b"
      },
      "execution_count": 44,
      "outputs": [
        {
          "output_type": "execute_result",
          "data": {
            "text/plain": [
              "1"
            ]
          },
          "metadata": {},
          "execution_count": 44
        }
      ]
    }
  ]
}