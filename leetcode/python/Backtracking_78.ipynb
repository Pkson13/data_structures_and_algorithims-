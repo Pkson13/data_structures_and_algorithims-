{
  "nbformat": 4,
  "nbformat_minor": 0,
  "metadata": {
    "colab": {
      "provenance": [],
      "authorship_tag": "ABX9TyMl/sDvTBrvSFAIHgUPGAqF",
      "include_colab_link": true
    },
    "kernelspec": {
      "name": "python3",
      "display_name": "Python 3"
    },
    "language_info": {
      "name": "python"
    }
  },
  "cells": [
    {
      "cell_type": "markdown",
      "metadata": {
        "id": "view-in-github",
        "colab_type": "text"
      },
      "source": [
        "<a href=\"https://colab.research.google.com/github/Pkson13/data_structures_and_algorithims-/blob/main/leetcode/python/Backtracking_78.ipynb\" target=\"_parent\"><img src=\"https://colab.research.google.com/assets/colab-badge.svg\" alt=\"Open In Colab\"/></a>"
      ]
    },
    {
      "cell_type": "markdown",
      "source": [
        "# Backtracking\n",
        "\n",
        "Given an integer array nums of unique elements, return all possible subsets (the power set).\n",
        "\n",
        "The solution set must not contain duplicate subsets. Return the solution in any order.\n",
        "\n",
        "\n",
        "\n",
        "Example 1:\n",
        "\n",
        "Input: nums = [1,2,3]\n",
        "Output: [[],[1],[2],[1,2],[3],[1,3],[2,3],[1,2,3]]\n",
        "Example 2:\n",
        "\n",
        "Input: nums = [0]\n",
        "Output: [[],[0]]\n",
        "\n",
        "\n",
        "Constraints:\n",
        "\n",
        "1 <= nums.length <= 10\n",
        "-10 <= nums[i] <= 10\n",
        "All the numbers of nums are unique."
      ],
      "metadata": {
        "id": "oAU2IPf01izG"
      }
    },
    {
      "cell_type": "code",
      "execution_count": 4,
      "metadata": {
        "colab": {
          "base_uri": "https://localhost:8080/"
        },
        "id": "G0ojk4pS1hdc",
        "outputId": "222b8b17-0ad1-46af-afbe-b96dd873c93d"
      },
      "outputs": [
        {
          "output_type": "stream",
          "name": "stdout",
          "text": [
            "[]\n",
            "[3]\n",
            "[2]\n",
            "[2, 3]\n",
            "[1]\n",
            "[1, 3]\n",
            "[1, 2]\n",
            "[1, 2, 3]\n"
          ]
        },
        {
          "output_type": "execute_result",
          "data": {
            "text/plain": [
              "[[], [3], [], [3], [2], [2, 3], [1], [1, 3], [1, 2], [1, 2, 3]]"
            ]
          },
          "metadata": {},
          "execution_count": 4
        }
      ],
      "source": [
        "from typing import List\n",
        "def subsets(nums: List[int]) -> List[List[int]]:\n",
        "        n = len(nums)\n",
        "        ans, sol = [[],[3], [2]], [2, 3]\n",
        "\n",
        "        def backtrack(i):\n",
        "            if i == n:\n",
        "                print(sol[:])\n",
        "                ans.append(sol[:])\n",
        "                return\n",
        "\n",
        "            # Don't pick nums[i]\n",
        "            backtrack(i + 1)\n",
        "\n",
        "            # Pick nums[i]\n",
        "            sol.append(nums[i])\n",
        "            backtrack(i + 1)\n",
        "            sol.pop()\n",
        "\n",
        "        backtrack(0)\n",
        "        return ans\n",
        "subsets([1,2,3])"
      ]
    }
  ]
}