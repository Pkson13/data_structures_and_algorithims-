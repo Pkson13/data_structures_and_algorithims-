{
  "nbformat": 4,
  "nbformat_minor": 0,
  "metadata": {
    "colab": {
      "provenance": [],
      "authorship_tag": "ABX9TyM/OFGgiDPL6FhJPtW2gjSj",
      "include_colab_link": true
    },
    "kernelspec": {
      "name": "python3",
      "display_name": "Python 3"
    },
    "language_info": {
      "name": "python"
    }
  },
  "cells": [
    {
      "cell_type": "markdown",
      "metadata": {
        "id": "view-in-github",
        "colab_type": "text"
      },
      "source": [
        "<a href=\"https://colab.research.google.com/github/Pkson13/data_structures_and_algorithims-/blob/main/leetcode/python/leetcode_643.ipynb\" target=\"_parent\"><img src=\"https://colab.research.google.com/assets/colab-badge.svg\" alt=\"Open In Colab\"/></a>"
      ]
    },
    {
      "cell_type": "markdown",
      "source": [
        "You are given an integer array nums consisting of n elements, and an integer k.\n",
        "\n",
        "Find a contiguous subarray whose length is equal to k that has the maximum average value and return this value. Any answer with a calculation error less than 10-5 will be accepted.\n",
        "\n",
        "\n",
        "\n",
        "Example 1:\n",
        "\n",
        "Input: nums = [1,12,-5,-6,50,3], k = 4\n",
        "Output: 12.75000\n",
        "Explanation: Maximum average is (12 - 5 - 6 + 50) / 4 = 51 / 4 = 12.75"
      ],
      "metadata": {
        "id": "0ukiGFNGM7Wo"
      }
    },
    {
      "cell_type": "code",
      "execution_count": 40,
      "metadata": {
        "colab": {
          "base_uri": "https://localhost:8080/"
        },
        "id": "ciKOBbNUMgkx",
        "outputId": "80b0144c-c8cf-4e79-f976-ef030e5b22da"
      },
      "outputs": [
        {
          "output_type": "stream",
          "name": "stdout",
          "text": [
            "[-1]\n",
            "-1.0\n"
          ]
        }
      ],
      "source": [
        "def findMaxAverage( nums, k):\n",
        "    \"\"\"\n",
        "    :type nums: List[int]\n",
        "    :type k: int\n",
        "    :rtype: float\n",
        "    \"\"\"\n",
        "    win = nums[:k]\n",
        "    print(win)\n",
        "    average = sum(win)/k\n",
        "    for i in range(k+1, len(nums) +1):\n",
        "        win = nums[i-k : i]\n",
        "        print(win)\n",
        "        win_avg = sum(win)/k\n",
        "        average = max(win_avg, average)\n",
        "    return average\n",
        "\n",
        "\n",
        "nums = [-1]\n",
        "k = 1\n",
        "print(findMaxAverage(nums, k))"
      ]
    },
    {
      "cell_type": "code",
      "source": [
        "def findMaxAverage( nums, k: int) -> float:\n",
        "    n = len(nums)\n",
        "    cur_sum = 0\n",
        "\n",
        "    for i in range(k):\n",
        "        cur_sum += nums[i]\n",
        "\n",
        "    max_avg = cur_sum / k\n",
        "\n",
        "    for i in range(k, n):\n",
        "        cur_sum += nums[i]\n",
        "        cur_sum -= nums[i - k]\n",
        "\n",
        "        avg = cur_sum / k\n",
        "        max_avg = max(max_avg, avg)\n",
        "\n",
        "    return max_avg\n",
        "\n",
        "# Time Complexity: O(n)\n",
        "# Space Complexity: O(1)\n",
        "nums = [1,12,-5,-6,50,3]\n",
        "k = 4\n",
        "print(findMaxAverage(nums, k))"
      ],
      "metadata": {
        "colab": {
          "base_uri": "https://localhost:8080/"
        },
        "id": "mqbXrRZkdEH7",
        "outputId": "80e040a8-7734-4694-d119-e1b52aa15f5f"
      },
      "execution_count": 41,
      "outputs": [
        {
          "output_type": "stream",
          "name": "stdout",
          "text": [
            "12.75\n"
          ]
        }
      ]
    }
  ]
}