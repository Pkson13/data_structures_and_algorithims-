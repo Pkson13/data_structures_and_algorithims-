{
  "nbformat": 4,
  "nbformat_minor": 0,
  "metadata": {
    "colab": {
      "provenance": [],
      "authorship_tag": "ABX9TyMEBY4TIGRAF56kh1kRs3lJ",
      "include_colab_link": true
    },
    "kernelspec": {
      "name": "python3",
      "display_name": "Python 3"
    },
    "language_info": {
      "name": "python"
    }
  },
  "cells": [
    {
      "cell_type": "markdown",
      "metadata": {
        "id": "view-in-github",
        "colab_type": "text"
      },
      "source": [
        "<a href=\"https://colab.research.google.com/github/Pkson13/data_structures_and_algorithims-/blob/main/leetcode/python/74_Search_a_2D_Matrix.ipynb\" target=\"_parent\"><img src=\"https://colab.research.google.com/assets/colab-badge.svg\" alt=\"Open In Colab\"/></a>"
      ]
    },
    {
      "cell_type": "markdown",
      "source": [
        "You are given an m x n integer matrix matrix with the following two properties:\n",
        "\n",
        "\n",
        "Each row is sorted in non-decreasing order.\n",
        "The first integer of each row is greater than the last integer of the previous row.\n",
        "Given an integer target, return true if target is in matrix or false otherwise.\n",
        "\n",
        "You must write a solution in O(log(m * n)) time complexity.\n",
        "\n",
        "\n",
        "\n",
        "Example 1:\n",
        "\n",
        "\n",
        "Input: matrix = [[1,3,5,7],[10,11,16,20],[23,30,34,60]], target = 3\n",
        "Output: true\n",
        "Example 2:\n",
        "\n",
        "\n",
        "Input: matrix = [[1,3,5,7],[10,11,16,20],[23,30,34,60]], target = 13\n",
        "Output: false"
      ],
      "metadata": {
        "id": "oQYq4Whm56nY"
      }
    },
    {
      "cell_type": "code",
      "execution_count": 24,
      "metadata": {
        "colab": {
          "base_uri": "https://localhost:8080/"
        },
        "id": "uipV5LO35n73",
        "outputId": "3e2b3c3b-efcc-43af-d478-abd44603e604"
      },
      "outputs": [
        {
          "output_type": "stream",
          "name": "stdout",
          "text": [
            "outer 0 0 0\n",
            "outer 1\n",
            "True\n"
          ]
        }
      ],
      "source": [
        "\n",
        "def binarysearch(sub, target):\n",
        "    l , r= 0, len(sub)-1\n",
        "    while l <= r:\n",
        "        mid = (l + r) // 2\n",
        "        print(\"inner\", l, mid, r)\n",
        "        if sub[mid] == target:\n",
        "            return True\n",
        "        elif sub[mid] < target:\n",
        "            l = mid + 1\n",
        "        else:\n",
        "            r = mid - 1\n",
        "    return False\n",
        "\n",
        "\n",
        "def searchMatrix( matrix, target):\n",
        "        \"\"\"\n",
        "        :type matrix: List[List[int]]\n",
        "        :type target: int\n",
        "        :rtype: bool\n",
        "        \"\"\"\n",
        "        ml ,mr =0, len(matrix)-1\n",
        "        while ml<= mr:\n",
        "            mid = (ml + mr) // 2\n",
        "            print(\"outer\", ml, mid, mr)\n",
        "            print(\"outer\",matrix[mid][0])\n",
        "            neigbour =0\n",
        "            if len(matrix) -1 >= mid+1:\n",
        "                neigbour = matrix[mid+1][0]\n",
        "            else:\n",
        "                neigbour = matrix[mid][-1]\n",
        "\n",
        "            if matrix[mid][0] < target and neigbour > target:\n",
        "                sub = matrix[mid]\n",
        "                return binarysearch(sub, target)\n",
        "            elif matrix[mid][0] == target or neigbour == target:\n",
        "                return True\n",
        "            elif matrix[mid][0] > target:\n",
        "                mr = mid -1\n",
        "            elif matrix[mid][0] < target and neigbour < target:\n",
        "                ml = mid + 1\n",
        "        return False\n",
        "\n",
        "# print(searchMatrix([[1,3,5,7],[10,11,16,20],[23,30,34,60]], 3))\n",
        "# print(searchMatrix([[1,3,5,7],[10,11,16,20],[23,30,34,60]], 13))\n",
        "# print(searchMatrix([[1]], 2))\n",
        "print(searchMatrix([[1, 3]], 3))\n",
        "\n",
        "\n",
        "\n"
      ]
    }
  ]
}